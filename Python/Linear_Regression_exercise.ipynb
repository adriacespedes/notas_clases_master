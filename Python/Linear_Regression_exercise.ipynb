{
 "cells": [
  {
   "cell_type": "markdown",
   "metadata": {
    "slideshow": {
     "slide_type": "slide"
    }
   },
   "source": [
    "### Implementing gradient descent\n",
    "\n",
    "Now we are ready to implement the actual gradient descent. Remember, the algorithm is:\n",
    "\n",
    "- Initialize variables\n",
    "\n",
    "- Compute cost function\n",
    "\n",
    "- Compute gradients\n",
    "\n",
    "- Update variables: gradient times learning rate (alpha)\n",
    "\n",
    "- Repeat until convergence: cost at iteration n-1 $\\sim$ cost at iteration n"
   ]
  },
  {
   "cell_type": "markdown",
   "metadata": {
    "slideshow": {
     "slide_type": "slide"
    }
   },
   "source": [
    "### Generate dummy data"
   ]
  },
  {
   "cell_type": "code",
   "execution_count": 1,
   "metadata": {
    "jupyter": {
     "outputs_hidden": true
    },
    "slideshow": {
     "slide_type": "fragment"
    }
   },
   "outputs": [],
   "source": [
    "import numpy as np\n",
    "import matplotlib.pyplot as plt\n",
    "%matplotlib inline\n",
    "plt.style.use('ggplot')\n"
   ]
  },
  {
   "cell_type": "code",
   "execution_count": 2,
   "metadata": {
    "slideshow": {
     "slide_type": "fragment"
    }
   },
   "outputs": [
    {
     "data": {
      "text/plain": [
       "<matplotlib.collections.PathCollection at 0x7f019d57e9e8>"
      ]
     },
     "execution_count": 2,
     "metadata": {},
     "output_type": "execute_result"
    },
    {
     "data": {
      "image/png": "[encoded data removed]",
      "text/plain": [
       "<Figure size 432x288 with 1 Axes>"
      ]
     },
     "metadata": {
      "needs_background": "light"
     },
     "output_type": "display_data"
    }
   ],
   "source": [
    "theta_real_0=50\n",
    "theta_real_1=1.3\n",
    "\n",
    "xs=np.random.normal(30.0,10.0,250)\n",
    "\n",
    "ys =xs * theta_real_1 +theta_real_0 +np.random.normal(0,5.0,250)\n",
    "\n",
    "plt.scatter(xs,ys)"
   ]
  },
  {
   "cell_type": "code",
   "execution_count": 3,
   "metadata": {
    "slideshow": {
     "slide_type": "fragment"
    }
   },
   "outputs": [
    {
     "data": {
      "text/plain": [
       "6633.682839172821"
      ]
     },
     "execution_count": 3,
     "metadata": {},
     "output_type": "execute_result"
    }
   ],
   "source": [
    "def cost_function(theta_0,theta_1):\n",
    "    \n",
    "    count=0\n",
    "    for i in range(0,250):\n",
    "        count+= (xs[i] * theta_1 +theta_0-ys[i])**2\n",
    "    \n",
    "\n",
    "    function_cost=(1/250)*count\n",
    "    return function_cost\n",
    "cost_function(0.5,0.3)"
   ]
  },
  {
   "cell_type": "code",
   "execution_count": 4,
   "metadata": {
    "jupyter": {
     "outputs_hidden": true
    },
    "slideshow": {
     "slide_type": "fragment"
    }
   },
   "outputs": [],
   "source": [
    "#gradiente 1\n",
    "def gradiente_1(theta_0,theta_1):\n",
    "    count=0\n",
    "    for i in range(0,250):\n",
    "        count+= (xs[i] * theta_1 +theta_0-ys[i])\n",
    "\n",
    "\n",
    "    gradiente=(1/250)*count\n",
    "    return gradiente"
   ]
  },
  {
   "cell_type": "code",
   "execution_count": 5,
   "metadata": {},
   "outputs": [],
   "source": [
    "#gradiente 2\n",
    "def gradiente_2(theta_0,theta_1):\n",
    "    count=0\n",
    "    for i in range(0,250):\n",
    "        count+= (xs[i] * theta_1 +theta_0-ys[i])*xs[i]\n",
    "\n",
    "\n",
    "    gradiente=(1/250)*count\n",
    "    return gradiente"
   ]
  },
  {
   "cell_type": "code",
   "execution_count": 7,
   "metadata": {
    "jupyter": {
     "outputs_hidden": true
    },
    "slideshow": {
     "slide_type": "slide"
    }
   },
   "outputs": [
    {
     "name": "stdout",
     "output_type": "stream",
     "text": [
      "45.59140587478668\n",
      "1.4165157426936903\n"
     ]
    }
   ],
   "source": [
    "theta_0=0\n",
    "theta_1=0\n",
    "\n",
    "L = 0.0001  # The learning Rate\n",
    "values_cost_function=[]\n",
    "values_cost_function.append(cost_function(theta_0,theta_1))\n",
    "D=gradiente_1(theta_0,theta_1)\n",
    "C=gradiente_2(theta_0,theta_1)\n",
    "theta_0=theta_0 -(L*D)\n",
    "theta_1=theta_1 -(L*C)\n",
    "values_cost_function.append(cost_function(theta_0,theta_1))\n",
    "error=((values_cost_function[i]-values_cost_function[i-1]))\n",
    "i=1\n",
    "while (np.abs(error))>0.0001:\n",
    "    D=gradiente_1(theta_0,theta_1)\n",
    "    C=gradiente_2(theta_0,theta_1)\n",
    "    theta_0=theta_0 -(L*D)\n",
    "    theta_1=theta_1 -(L*C)\n",
    "    values_cost_function.append(cost_function(theta_0,theta_1))\n",
    "    i+=1\n",
    "    error=((values_cost_function[i]-values_cost_function[i-1]))\n",
    "    \n",
    "        \n",
    "print(theta_0)\n",
    "print(theta_1)    \n",
    "\n"
   ]
  },
  {
   "cell_type": "code",
   "execution_count": 9,
   "metadata": {},
   "outputs": [
    {
     "data": {
      "text/plain": [
       "[<matplotlib.lines.Line2D at 0x7f019cd8c710>]"
      ]
     },
     "execution_count": 9,
     "metadata": {},
     "output_type": "execute_result"
    },
    {
     "data": {
      "image/png": "[encoded data removed]",
      "text/plain": [
       "<Figure size 432x288 with 1 Axes>"
      ]
     },
     "metadata": {
      "needs_background": "light"
     },
     "output_type": "display_data"
    }
   ],
   "source": [
    "theta_real_0=50\n",
    "theta_real_1=1.3\n",
    "\n",
    "xs=np.random.normal(30.0,10.0,250)\n",
    "\n",
    "ys =xs * theta_real_1 +theta_real_0 +np.random.normal(0,5.0,250)\n",
    "ys_real=xs * theta_1 +theta_0\n",
    "\n",
    "plt.scatter(xs,ys,color='r')\n",
    "plt.plot(xs,ys_real,color='b')"
   ]
  },
  {
   "cell_type": "code",
   "execution_count": null,
   "metadata": {},
   "outputs": [],
   "source": []
  }
 ],
 "metadata": {
  "kernelspec": {
   "display_name": "Python 3",
   "language": "python",
   "name": "python3"
  },
  "language_info": {
   "codemirror_mode": {
    "name": "ipython",
    "version": 3
   },
   "file_extension": ".py",
   "mimetype": "text/x-python",
   "name": "python",
   "nbconvert_exporter": "python",
   "pygments_lexer": "ipython3",
   "version": "3.7.1"
  }
 },
 "nbformat": 4,
 "nbformat_minor": 2
}
