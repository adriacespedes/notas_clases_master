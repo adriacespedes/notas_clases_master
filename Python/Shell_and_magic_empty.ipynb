{
 "cells": [
  {
   "cell_type": "code",
   "execution_count": 1,
   "metadata": {},
   "outputs": [
    {
     "name": "stdout",
     "output_type": "stream",
     "text": [
      "/home/dsc/Python\r\n"
     ]
    }
   ],
   "source": [
    "\n",
    "! pwd"
   ]
  },
  {
   "cell_type": "code",
   "execution_count": 2,
   "metadata": {},
   "outputs": [
    {
     "name": "stdout",
     "output_type": "stream",
     "text": [
      "total 6184\r\n",
      "-rw-rw-r-- 1 dsc dsc 6325795 nov 21 13:07 intro.ipynb\r\n",
      "-rw-rw-r-- 1 dsc dsc      72 nov 21 13:08 Untitled.ipynb\r\n"
     ]
    }
   ],
   "source": [
    "! ls -l"
   ]
  },
  {
   "cell_type": "code",
   "execution_count": 3,
   "metadata": {},
   "outputs": [
    {
     "name": "stdout",
     "output_type": "stream",
     "text": [
      "      3      20     122\r\n"
     ]
    }
   ],
   "source": [
    "! ls -l | wc"
   ]
  },
  {
   "cell_type": "code",
   "execution_count": 4,
   "metadata": {},
   "outputs": [
    {
     "name": "stdout",
     "output_type": "stream",
     "text": [
      "/home/dsc/Python\r\n"
     ]
    }
   ],
   "source": [
    "! pwd\n"
   ]
  },
  {
   "cell_type": "code",
   "execution_count": 5,
   "metadata": {},
   "outputs": [],
   "source": [
    "! cd .."
   ]
  },
  {
   "cell_type": "code",
   "execution_count": 6,
   "metadata": {},
   "outputs": [
    {
     "name": "stdout",
     "output_type": "stream",
     "text": [
      "/home/dsc/Python\r\n"
     ]
    }
   ],
   "source": [
    "! pwd"
   ]
  },
  {
   "cell_type": "code",
   "execution_count": 7,
   "metadata": {},
   "outputs": [
    {
     "name": "stderr",
     "output_type": "stream",
     "text": [
      "UsageError: Line magic function `%` not found.\n"
     ]
    }
   ],
   "source": [
    "% pwd"
   ]
  },
  {
   "cell_type": "code",
   "execution_count": 8,
   "metadata": {},
   "outputs": [
    {
     "data": {
      "text/plain": [
       "'/home/dsc/Python'"
      ]
     },
     "execution_count": 8,
     "metadata": {},
     "output_type": "execute_result"
    }
   ],
   "source": [
    "%pwd"
   ]
  },
  {
   "cell_type": "code",
   "execution_count": 9,
   "metadata": {},
   "outputs": [
    {
     "name": "stdout",
     "output_type": "stream",
     "text": [
      "/home/dsc\n"
     ]
    }
   ],
   "source": [
    "%cd .."
   ]
  },
  {
   "cell_type": "code",
   "execution_count": 10,
   "metadata": {},
   "outputs": [
    {
     "name": "stdout",
     "output_type": "stream",
     "text": [
      "\n",
      "Automagic is OFF, % prefix IS needed for line magics.\n"
     ]
    }
   ],
   "source": [
    "%automagic"
   ]
  },
  {
   "cell_type": "code",
   "execution_count": 11,
   "metadata": {},
   "outputs": [
    {
     "data": {
      "text/plain": [
       "'/home/dsc'"
      ]
     },
     "execution_count": 11,
     "metadata": {},
     "output_type": "execute_result"
    }
   ],
   "source": [
    "%pwd"
   ]
  },
  {
   "cell_type": "code",
   "execution_count": 12,
   "metadata": {},
   "outputs": [
    {
     "data": {
      "application/json": {
       "cell": {
        "!": "OSMagics",
        "HTML": "Other",
        "SVG": "Other",
        "bash": "Other",
        "capture": "ExecutionMagics",
        "debug": "ExecutionMagics",
        "file": "Other",
        "html": "DisplayMagics",
        "javascript": "DisplayMagics",
        "js": "DisplayMagics",
        "latex": "DisplayMagics",
        "markdown": "DisplayMagics",
        "perl": "Other",
        "prun": "ExecutionMagics",
        "pypy": "Other",
        "python": "Other",
        "python2": "Other",
        "python3": "Other",
        "ruby": "Other",
        "script": "ScriptMagics",
        "sh": "Other",
        "svg": "DisplayMagics",
        "sx": "OSMagics",
        "system": "OSMagics",
        "time": "ExecutionMagics",
        "timeit": "ExecutionMagics",
        "writefile": "OSMagics"
       },
       "line": {
        "alias": "OSMagics",
        "alias_magic": "BasicMagics",
        "autoawait": "AsyncMagics",
        "autocall": "AutoMagics",
        "automagic": "AutoMagics",
        "autosave": "KernelMagics",
        "bookmark": "OSMagics",
        "cat": "Other",
        "cd": "OSMagics",
        "clear": "KernelMagics",
        "colors": "BasicMagics",
        "config": "ConfigMagics",
        "connect_info": "KernelMagics",
        "cp": "Other",
        "debug": "ExecutionMagics",
        "dhist": "OSMagics",
        "dirs": "OSMagics",
        "doctest_mode": "BasicMagics",
        "ed": "Other",
        "edit": "KernelMagics",
        "env": "OSMagics",
        "gui": "BasicMagics",
        "hist": "Other",
        "history": "HistoryMagics",
        "killbgscripts": "ScriptMagics",
        "ldir": "Other",
        "less": "KernelMagics",
        "lf": "Other",
        "lk": "Other",
        "ll": "Other",
        "load": "CodeMagics",
        "load_ext": "ExtensionMagics",
        "loadpy": "CodeMagics",
        "logoff": "LoggingMagics",
        "logon": "LoggingMagics",
        "logstart": "LoggingMagics",
        "logstate": "LoggingMagics",
        "logstop": "LoggingMagics",
        "ls": "Other",
        "lsmagic": "BasicMagics",
        "lx": "Other",
        "macro": "ExecutionMagics",
        "magic": "BasicMagics",
        "man": "KernelMagics",
        "matplotlib": "PylabMagics",
        "mkdir": "Other",
        "more": "KernelMagics",
        "mv": "Other",
        "notebook": "BasicMagics",
        "page": "BasicMagics",
        "pastebin": "CodeMagics",
        "pdb": "ExecutionMagics",
        "pdef": "NamespaceMagics",
        "pdoc": "NamespaceMagics",
        "pfile": "NamespaceMagics",
        "pinfo": "NamespaceMagics",
        "pinfo2": "NamespaceMagics",
        "pip": "BasicMagics",
        "popd": "OSMagics",
        "pprint": "BasicMagics",
        "precision": "BasicMagics",
        "prun": "ExecutionMagics",
        "psearch": "NamespaceMagics",
        "psource": "NamespaceMagics",
        "pushd": "OSMagics",
        "pwd": "OSMagics",
        "pycat": "OSMagics",
        "pylab": "PylabMagics",
        "qtconsole": "KernelMagics",
        "quickref": "BasicMagics",
        "recall": "HistoryMagics",
        "rehashx": "OSMagics",
        "reload_ext": "ExtensionMagics",
        "rep": "Other",
        "rerun": "HistoryMagics",
        "reset": "NamespaceMagics",
        "reset_selective": "NamespaceMagics",
        "rm": "Other",
        "rmdir": "Other",
        "run": "ExecutionMagics",
        "save": "CodeMagics",
        "sc": "OSMagics",
        "set_env": "OSMagics",
        "store": "StoreMagics",
        "sx": "OSMagics",
        "system": "OSMagics",
        "tb": "ExecutionMagics",
        "time": "ExecutionMagics",
        "timeit": "ExecutionMagics",
        "unalias": "OSMagics",
        "unload_ext": "ExtensionMagics",
        "who": "NamespaceMagics",
        "who_ls": "NamespaceMagics",
        "whos": "NamespaceMagics",
        "xdel": "NamespaceMagics",
        "xmode": "BasicMagics"
       }
      },
      "text/plain": [
       "Available line magics:\n",
       "%alias  %alias_magic  %autoawait  %autocall  %automagic  %autosave  %bookmark  %cat  %cd  %clear  %colors  %config  %connect_info  %cp  %debug  %dhist  %dirs  %doctest_mode  %ed  %edit  %env  %gui  %hist  %history  %killbgscripts  %ldir  %less  %lf  %lk  %ll  %load  %load_ext  %loadpy  %logoff  %logon  %logstart  %logstate  %logstop  %ls  %lsmagic  %lx  %macro  %magic  %man  %matplotlib  %mkdir  %more  %mv  %notebook  %page  %pastebin  %pdb  %pdef  %pdoc  %pfile  %pinfo  %pinfo2  %popd  %pprint  %precision  %prun  %psearch  %psource  %pushd  %pwd  %pycat  %pylab  %qtconsole  %quickref  %recall  %rehashx  %reload_ext  %rep  %rerun  %reset  %reset_selective  %rm  %rmdir  %run  %save  %sc  %set_env  %store  %sx  %system  %tb  %time  %timeit  %unalias  %unload_ext  %who  %who_ls  %whos  %xdel  %xmode\n",
       "\n",
       "Available cell magics:\n",
       "%%!  %%HTML  %%SVG  %%bash  %%capture  %%debug  %%file  %%html  %%javascript  %%js  %%latex  %%markdown  %%perl  %%prun  %%pypy  %%python  %%python2  %%python3  %%ruby  %%script  %%sh  %%svg  %%sx  %%system  %%time  %%timeit  %%writefile\n",
       "\n",
       "Automagic is OFF, % prefix IS needed for line magics."
      ]
     },
     "execution_count": 12,
     "metadata": {},
     "output_type": "execute_result"
    }
   ],
   "source": [
    "%lsmagic"
   ]
  },
  {
   "cell_type": "code",
   "execution_count": 15,
   "metadata": {},
   "outputs": [
    {
     "data": {
      "text/plain": [
       "['THIS', '/home/dsc', '/home']"
      ]
     },
     "execution_count": 15,
     "metadata": {},
     "output_type": "execute_result"
    }
   ],
   "source": [
    "%%!\n",
    "zsh -c \"echo THIS\"\n",
    "pwd\n",
    "cd ..\n",
    "pwd"
   ]
  },
  {
   "cell_type": "code",
   "execution_count": 14,
   "metadata": {},
   "outputs": [
    {
     "name": "stdout",
     "output_type": "stream",
     "text": [
      "/home/dsc\n",
      "/home\n"
     ]
    }
   ],
   "source": [
    "%%bash\n",
    "pwd\n",
    "cd ..\n",
    "pwd"
   ]
  },
  {
   "cell_type": "code",
   "execution_count": 16,
   "metadata": {},
   "outputs": [
    {
     "name": "stdout",
     "output_type": "stream",
     "text": [
      "total 100\r\n",
      "drwxrwxr-x 26 dsc dsc 4096 nov 13 20:31 anaconda3\r\n",
      "drwxrwxr-x  2 dsc dsc 4096 sep 14 18:25 books\r\n",
      "drwxrwxr-x  7 dsc dsc 4096 mar 28  2019 Data\r\n",
      "drwxr-xr-x  2 dsc dsc 4096 sep 14 15:46 Desktop\r\n",
      "drwxr-xr-x  2 dsc dsc 4096 mar 28  2019 Documents\r\n",
      "drwxr-xr-x  2 dsc dsc 4096 oct 27 17:25 Downloads\r\n",
      "-rw-rw-r--  1 dsc dsc   52 nov 14 13:20 file\r\n",
      "drwxrwxr-x  3 dsc dsc 4096 nov 13 21:01 first_dir\r\n",
      "drwxrwxr-x  3 dsc dsc 4096 nov 13 20:31 holi\r\n",
      "drwxrwxr-x  3 dsc dsc 4096 nov 13 21:39 kschool-master-2020\r\n",
      "drwxr-xr-x  2 dsc dsc 4096 mar 28  2019 Music\r\n",
      "drwxrwxr-x  2 dsc dsc 4096 nov 21 09:14 my_scripts\r\n",
      "drwxr-xr-x  2 dsc dsc 4096 mar 28  2019 Pictures\r\n",
      "drwxr-xr-x  2 dsc dsc 4096 mar 28  2019 Public\r\n",
      "drwxrwxr-x  3 dsc dsc 4096 nov 21 13:20 Python\r\n",
      "drwxrwxr-x  3 dsc dsc 4096 sep 14 15:29 R\r\n",
      "drwxrwxr-x 12 dsc dsc 4096 nov 20 20:40 Repos\r\n",
      "drwxrwxr-x  2 dsc dsc 4096 nov 26  2019 shared\r\n",
      "-rw-rw-r--  1 dsc dsc 5787 nov 21 10:28 Shell_clases2020_20201114_v2.txt\r\n",
      "drwxr-xr-x  2 dsc dsc 4096 mar 28  2019 Templates\r\n",
      "-rw-rw-r--  1 dsc dsc   20 nov 20 17:24 uniq_example.txt\r\n",
      "-rw-rw-r--  1 dsc dsc 8161 nov 21 11:32 Untitled.ipynb\r\n",
      "drwxr-xr-x  2 dsc dsc 4096 mar 28  2019 Videos\r\n"
     ]
    }
   ],
   "source": [
    "! ls -l"
   ]
  },
  {
   "cell_type": "code",
   "execution_count": 17,
   "metadata": {},
   "outputs": [],
   "source": [
    "bash_output=! ls -l"
   ]
  },
  {
   "cell_type": "code",
   "execution_count": 18,
   "metadata": {},
   "outputs": [
    {
     "data": {
      "text/plain": [
       "IPython.utils.text.SList"
      ]
     },
     "execution_count": 18,
     "metadata": {},
     "output_type": "execute_result"
    }
   ],
   "source": [
    "type(bash_output)"
   ]
  },
  {
   "cell_type": "code",
   "execution_count": 19,
   "metadata": {},
   "outputs": [
    {
     "data": {
      "text/plain": [
       "['total 100',\n",
       " 'drwxrwxr-x 26 dsc dsc 4096 nov 13 20:31 anaconda3',\n",
       " 'drwxrwxr-x  2 dsc dsc 4096 sep 14 18:25 books',\n",
       " 'drwxrwxr-x  7 dsc dsc 4096 mar 28  2019 Data',\n",
       " 'drwxr-xr-x  2 dsc dsc 4096 sep 14 15:46 Desktop',\n",
       " 'drwxr-xr-x  2 dsc dsc 4096 mar 28  2019 Documents',\n",
       " 'drwxr-xr-x  2 dsc dsc 4096 oct 27 17:25 Downloads',\n",
       " '-rw-rw-r--  1 dsc dsc   52 nov 14 13:20 file',\n",
       " 'drwxrwxr-x  3 dsc dsc 4096 nov 13 21:01 first_dir',\n",
       " 'drwxrwxr-x  3 dsc dsc 4096 nov 13 20:31 holi',\n",
       " 'drwxrwxr-x  3 dsc dsc 4096 nov 13 21:39 kschool-master-2020',\n",
       " 'drwxr-xr-x  2 dsc dsc 4096 mar 28  2019 Music',\n",
       " 'drwxrwxr-x  2 dsc dsc 4096 nov 21 09:14 my_scripts',\n",
       " 'drwxr-xr-x  2 dsc dsc 4096 mar 28  2019 Pictures',\n",
       " 'drwxr-xr-x  2 dsc dsc 4096 mar 28  2019 Public',\n",
       " 'drwxrwxr-x  3 dsc dsc 4096 nov 21 13:22 Python',\n",
       " 'drwxrwxr-x  3 dsc dsc 4096 sep 14 15:29 R',\n",
       " 'drwxrwxr-x 12 dsc dsc 4096 nov 20 20:40 Repos',\n",
       " 'drwxrwxr-x  2 dsc dsc 4096 nov 26  2019 shared',\n",
       " '-rw-rw-r--  1 dsc dsc 5787 nov 21 10:28 Shell_clases2020_20201114_v2.txt',\n",
       " 'drwxr-xr-x  2 dsc dsc 4096 mar 28  2019 Templates',\n",
       " '-rw-rw-r--  1 dsc dsc   20 nov 20 17:24 uniq_example.txt',\n",
       " '-rw-rw-r--  1 dsc dsc 8161 nov 21 11:32 Untitled.ipynb',\n",
       " 'drwxr-xr-x  2 dsc dsc 4096 mar 28  2019 Videos']"
      ]
     },
     "execution_count": 19,
     "metadata": {},
     "output_type": "execute_result"
    }
   ],
   "source": [
    "bash_output"
   ]
  },
  {
   "cell_type": "code",
   "execution_count": 20,
   "metadata": {},
   "outputs": [],
   "source": [
    "lista_de_strings=['uno','dos']"
   ]
  },
  {
   "cell_type": "code",
   "execution_count": 21,
   "metadata": {},
   "outputs": [
    {
     "data": {
      "text/plain": [
       "['__add__',\n",
       " '__class__',\n",
       " '__contains__',\n",
       " '__delattr__',\n",
       " '__delitem__',\n",
       " '__dict__',\n",
       " '__dir__',\n",
       " '__doc__',\n",
       " '__eq__',\n",
       " '__format__',\n",
       " '__ge__',\n",
       " '__getattribute__',\n",
       " '__getitem__',\n",
       " '__gt__',\n",
       " '__hash__',\n",
       " '__iadd__',\n",
       " '__imul__',\n",
       " '__init__',\n",
       " '__init_subclass__',\n",
       " '__iter__',\n",
       " '__le__',\n",
       " '__len__',\n",
       " '__lt__',\n",
       " '__module__',\n",
       " '__mul__',\n",
       " '__ne__',\n",
       " '__new__',\n",
       " '__reduce__',\n",
       " '__reduce_ex__',\n",
       " '__repr__',\n",
       " '__reversed__',\n",
       " '__rmul__',\n",
       " '__setattr__',\n",
       " '__setitem__',\n",
       " '__sizeof__',\n",
       " '__str__',\n",
       " '__subclasshook__',\n",
       " '__weakref__',\n",
       " 'append',\n",
       " 'clear',\n",
       " 'copy',\n",
       " 'count',\n",
       " 'extend',\n",
       " 'fields',\n",
       " 'get_list',\n",
       " 'get_nlstr',\n",
       " 'get_paths',\n",
       " 'get_spstr',\n",
       " 'grep',\n",
       " 'index',\n",
       " 'insert',\n",
       " 'l',\n",
       " 'list',\n",
       " 'n',\n",
       " 'nlstr',\n",
       " 'p',\n",
       " 'paths',\n",
       " 'pop',\n",
       " 'remove',\n",
       " 'reverse',\n",
       " 's',\n",
       " 'sort',\n",
       " 'spstr']"
      ]
     },
     "execution_count": 21,
     "metadata": {},
     "output_type": "execute_result"
    }
   ],
   "source": [
    "dir(bash_output)"
   ]
  },
  {
   "cell_type": "code",
   "execution_count": 22,
   "metadata": {},
   "outputs": [
    {
     "data": {
      "text/plain": [
       "['total 100',\n",
       " 'drwxrwxr-x 26 dsc dsc 4096 nov 13 20:31 anaconda3',\n",
       " 'drwxrwxr-x  2 dsc dsc 4096 sep 14 18:25 books',\n",
       " 'drwxrwxr-x  7 dsc dsc 4096 mar 28  2019 Data']"
      ]
     },
     "execution_count": 22,
     "metadata": {},
     "output_type": "execute_result"
    }
   ],
   "source": [
    "bash_output[0:4]"
   ]
  },
  {
   "cell_type": "code",
   "execution_count": 23,
   "metadata": {},
   "outputs": [
    {
     "data": {
      "text/plain": [
       "['total 100',\n",
       " 'drwxrwxr-x 26 dsc dsc 4096 nov 13 20:31 anaconda3',\n",
       " 'drwxrwxr-x  2 dsc dsc 4096 sep 14 18:25 books',\n",
       " 'drwxrwxr-x  7 dsc dsc 4096 mar 28  2019 Data',\n",
       " 'drwxr-xr-x  2 dsc dsc 4096 sep 14 15:46 Desktop',\n",
       " 'drwxr-xr-x  2 dsc dsc 4096 mar 28  2019 Documents',\n",
       " 'drwxr-xr-x  2 dsc dsc 4096 oct 27 17:25 Downloads',\n",
       " '-rw-rw-r--  1 dsc dsc   52 nov 14 13:20 file',\n",
       " 'drwxrwxr-x  3 dsc dsc 4096 nov 13 21:01 first_dir',\n",
       " 'drwxrwxr-x  3 dsc dsc 4096 nov 13 20:31 holi',\n",
       " 'drwxrwxr-x  3 dsc dsc 4096 nov 13 21:39 kschool-master-2020',\n",
       " 'drwxr-xr-x  2 dsc dsc 4096 mar 28  2019 Music',\n",
       " 'drwxrwxr-x  2 dsc dsc 4096 nov 21 09:14 my_scripts',\n",
       " 'drwxr-xr-x  2 dsc dsc 4096 mar 28  2019 Pictures',\n",
       " 'drwxr-xr-x  2 dsc dsc 4096 mar 28  2019 Public',\n",
       " 'drwxrwxr-x  3 dsc dsc 4096 nov 21 13:22 Python',\n",
       " 'drwxrwxr-x  3 dsc dsc 4096 sep 14 15:29 R',\n",
       " 'drwxrwxr-x 12 dsc dsc 4096 nov 20 20:40 Repos',\n",
       " 'drwxrwxr-x  2 dsc dsc 4096 nov 26  2019 shared',\n",
       " '-rw-rw-r--  1 dsc dsc 5787 nov 21 10:28 Shell_clases2020_20201114_v2.txt',\n",
       " 'drwxr-xr-x  2 dsc dsc 4096 mar 28  2019 Templates',\n",
       " '-rw-rw-r--  1 dsc dsc   20 nov 20 17:24 uniq_example.txt',\n",
       " '-rw-rw-r--  1 dsc dsc 8161 nov 21 11:32 Untitled.ipynb',\n",
       " 'drwxr-xr-x  2 dsc dsc 4096 mar 28  2019 Videos']"
      ]
     },
     "execution_count": 23,
     "metadata": {},
     "output_type": "execute_result"
    }
   ],
   "source": [
    "bash_output.l"
   ]
  },
  {
   "cell_type": "code",
   "execution_count": 24,
   "metadata": {},
   "outputs": [
    {
     "data": {
      "text/plain": [
       "'total 100\\ndrwxrwxr-x 26 dsc dsc 4096 nov 13 20:31 anaconda3\\ndrwxrwxr-x  2 dsc dsc 4096 sep 14 18:25 books\\ndrwxrwxr-x  7 dsc dsc 4096 mar 28  2019 Data\\ndrwxr-xr-x  2 dsc dsc 4096 sep 14 15:46 Desktop\\ndrwxr-xr-x  2 dsc dsc 4096 mar 28  2019 Documents\\ndrwxr-xr-x  2 dsc dsc 4096 oct 27 17:25 Downloads\\n-rw-rw-r--  1 dsc dsc   52 nov 14 13:20 file\\ndrwxrwxr-x  3 dsc dsc 4096 nov 13 21:01 first_dir\\ndrwxrwxr-x  3 dsc dsc 4096 nov 13 20:31 holi\\ndrwxrwxr-x  3 dsc dsc 4096 nov 13 21:39 kschool-master-2020\\ndrwxr-xr-x  2 dsc dsc 4096 mar 28  2019 Music\\ndrwxrwxr-x  2 dsc dsc 4096 nov 21 09:14 my_scripts\\ndrwxr-xr-x  2 dsc dsc 4096 mar 28  2019 Pictures\\ndrwxr-xr-x  2 dsc dsc 4096 mar 28  2019 Public\\ndrwxrwxr-x  3 dsc dsc 4096 nov 21 13:22 Python\\ndrwxrwxr-x  3 dsc dsc 4096 sep 14 15:29 R\\ndrwxrwxr-x 12 dsc dsc 4096 nov 20 20:40 Repos\\ndrwxrwxr-x  2 dsc dsc 4096 nov 26  2019 shared\\n-rw-rw-r--  1 dsc dsc 5787 nov 21 10:28 Shell_clases2020_20201114_v2.txt\\ndrwxr-xr-x  2 dsc dsc 4096 mar 28  2019 Templates\\n-rw-rw-r--  1 dsc dsc   20 nov 20 17:24 uniq_example.txt\\n-rw-rw-r--  1 dsc dsc 8161 nov 21 11:32 Untitled.ipynb\\ndrwxr-xr-x  2 dsc dsc 4096 mar 28  2019 Videos'"
      ]
     },
     "execution_count": 24,
     "metadata": {},
     "output_type": "execute_result"
    }
   ],
   "source": [
    "bash_output.n"
   ]
  },
  {
   "cell_type": "code",
   "execution_count": 25,
   "metadata": {},
   "outputs": [
    {
     "data": {
      "text/plain": [
       "'total 100 drwxrwxr-x 26 dsc dsc 4096 nov 13 20:31 anaconda3 drwxrwxr-x  2 dsc dsc 4096 sep 14 18:25 books drwxrwxr-x  7 dsc dsc 4096 mar 28  2019 Data drwxr-xr-x  2 dsc dsc 4096 sep 14 15:46 Desktop drwxr-xr-x  2 dsc dsc 4096 mar 28  2019 Documents drwxr-xr-x  2 dsc dsc 4096 oct 27 17:25 Downloads -rw-rw-r--  1 dsc dsc   52 nov 14 13:20 file drwxrwxr-x  3 dsc dsc 4096 nov 13 21:01 first_dir drwxrwxr-x  3 dsc dsc 4096 nov 13 20:31 holi drwxrwxr-x  3 dsc dsc 4096 nov 13 21:39 kschool-master-2020 drwxr-xr-x  2 dsc dsc 4096 mar 28  2019 Music drwxrwxr-x  2 dsc dsc 4096 nov 21 09:14 my_scripts drwxr-xr-x  2 dsc dsc 4096 mar 28  2019 Pictures drwxr-xr-x  2 dsc dsc 4096 mar 28  2019 Public drwxrwxr-x  3 dsc dsc 4096 nov 21 13:22 Python drwxrwxr-x  3 dsc dsc 4096 sep 14 15:29 R drwxrwxr-x 12 dsc dsc 4096 nov 20 20:40 Repos drwxrwxr-x  2 dsc dsc 4096 nov 26  2019 shared -rw-rw-r--  1 dsc dsc 5787 nov 21 10:28 Shell_clases2020_20201114_v2.txt drwxr-xr-x  2 dsc dsc 4096 mar 28  2019 Templates -rw-rw-r--  1 dsc dsc   20 nov 20 17:24 uniq_example.txt -rw-rw-r--  1 dsc dsc 8161 nov 21 11:32 Untitled.ipynb drwxr-xr-x  2 dsc dsc 4096 mar 28  2019 Videos'"
      ]
     },
     "execution_count": 25,
     "metadata": {},
     "output_type": "execute_result"
    }
   ],
   "source": [
    "bash_output.s"
   ]
  },
  {
   "cell_type": "code",
   "execution_count": 26,
   "metadata": {},
   "outputs": [
    {
     "name": "stdout",
     "output_type": "stream",
     "text": [
      "anaconda3  file\t\t\tPictures  Shell_clases2020_20201114_v2.txt\r\n",
      "books\t   first_dir\t\tPublic\t  Templates\r\n",
      "Data\t   holi\t\t\tPython\t  uniq_example.txt\r\n",
      "Desktop    kschool-master-2020\tR\t  Untitled.ipynb\r\n",
      "Documents  Music\t\tRepos\t  Videos\r\n",
      "Downloads  my_scripts\t\tshared\r\n"
     ]
    }
   ],
   "source": [
    "! ls "
   ]
  },
  {
   "cell_type": "code",
   "execution_count": 27,
   "metadata": {},
   "outputs": [
    {
     "name": "stdout",
     "output_type": "stream",
     "text": [
      "/home/dsc/Data/opentraveldata\n"
     ]
    }
   ],
   "source": [
    "%cd Data/opentraveldata/"
   ]
  },
  {
   "cell_type": "code",
   "execution_count": 28,
   "metadata": {},
   "outputs": [],
   "source": [
    "a=!ls"
   ]
  },
  {
   "cell_type": "code",
   "execution_count": 29,
   "metadata": {},
   "outputs": [
    {
     "data": {
      "text/plain": [
       "['20lines.txt',\n",
       " 'largest_file',\n",
       " 'master_26_clase_otro',\n",
       " 'numbers',\n",
       " 'optd_aircraft.csv',\n",
       " 'optd_airlines.csv',\n",
       " 'optd_por_public.csv',\n",
       " 'ref_airline_nb_of_flights.csv',\n",
       " 'sql_aircraft.sql']"
      ]
     },
     "execution_count": 29,
     "metadata": {},
     "output_type": "execute_result"
    }
   ],
   "source": [
    "a"
   ]
  },
  {
   "cell_type": "code",
   "execution_count": 30,
   "metadata": {},
   "outputs": [
    {
     "data": {
      "text/plain": [
       "'20lines.txt largest_file master_26_clase_otro numbers optd_aircraft.csv optd_airlines.csv optd_por_public.csv ref_airline_nb_of_flights.csv sql_aircraft.sql'"
      ]
     },
     "execution_count": 30,
     "metadata": {},
     "output_type": "execute_result"
    }
   ],
   "source": [
    "a.s"
   ]
  },
  {
   "cell_type": "code",
   "execution_count": 32,
   "metadata": {},
   "outputs": [
    {
     "name": "stdout",
     "output_type": "stream",
     "text": [
      "     27      27      71 20lines.txt\n",
      "      1       9      59 largest_file\n",
      "wc: master_26_clase_otro: Is a directory\n",
      "      0       0       0 master_26_clase_otro\n",
      "     10      10      21 numbers\n",
      "    458    1068   18612 optd_aircraft.csv\n",
      "   1254    3116  107306 optd_airlines.csv\n",
      "  18190  202528 8080005 optd_por_public.csv\n",
      "    684     684    5816 ref_airline_nb_of_flights.csv\n",
      "     10      25     225 sql_aircraft.sql\n",
      "  20634  207467 8212115 total\n"
     ]
    }
   ],
   "source": [
    "! wc $a.s"
   ]
  },
  {
   "cell_type": "code",
   "execution_count": 33,
   "metadata": {},
   "outputs": [],
   "source": [
    "quijote ='En un lugar de la MANCHA'"
   ]
  },
  {
   "cell_type": "code",
   "execution_count": 39,
   "metadata": {},
   "outputs": [
    {
     "name": "stdout",
     "output_type": "stream",
     "text": [
      "En un lugar de la MANCHAISTHEBEST\r\n"
     ]
    }
   ],
   "source": [
    "! echo {quijote}ISTHEBEST"
   ]
  },
  {
   "cell_type": "code",
   "execution_count": 41,
   "metadata": {},
   "outputs": [],
   "source": [
    "! echo {quijote.split()} > test.txt"
   ]
  },
  {
   "cell_type": "code",
   "execution_count": 42,
   "metadata": {},
   "outputs": [
    {
     "name": "stdout",
     "output_type": "stream",
     "text": [
      "[En, un, lugar, de, la, MANCHA]\r\n"
     ]
    }
   ],
   "source": [
    "! cat test.txt"
   ]
  },
  {
   "cell_type": "code",
   "execution_count": 43,
   "metadata": {},
   "outputs": [
    {
     "name": "stdout",
     "output_type": "stream",
     "text": [
      "total 8052\r\n",
      "-rw-rw-r-- 1 dsc dsc      71 nov 20 17:58 20lines.txt\r\n",
      "-rw-rw-r-- 1 dsc dsc      59 nov 14 11:34 largest_file\r\n",
      "drwxrwxr-x 3 dsc dsc    4096 nov 14 10:49 master_26_clase_otro\r\n",
      "-rw-rw-r-- 1 dsc dsc      21 nov 20 18:16 numbers\r\n",
      "-rw-rw-r-- 1 dsc dsc   18612 abr  2  2018 optd_aircraft.csv\r\n",
      "-rw-rw-r-- 1 dsc dsc  107306 abr  2  2018 optd_airlines.csv\r\n",
      "-rw-rw-r-- 1 dsc dsc 8080005 abr  2  2018 optd_por_public.csv\r\n",
      "-rw-rw-r-- 1 dsc dsc    5816 abr  2  2018 ref_airline_nb_of_flights.csv\r\n",
      "-rw-rw-r-- 1 dsc dsc     225 nov 21 09:54 sql_aircraft.sql\r\n",
      "-rw-rw-r-- 1 dsc dsc      32 nov 21 13:46 test.txt\r\n"
     ]
    }
   ],
   "source": [
    "! ls -l "
   ]
  },
  {
   "cell_type": "code",
   "execution_count": 47,
   "metadata": {},
   "outputs": [
    {
     "name": "stdout",
     "output_type": "stream",
     "text": [
      "Variable           Type     Data/Info\n",
      "-------------------------------------\n",
      "a                  SList    ['20lines.txt', 'largest_<...>csv', 'sql_aircraft.sql']\n",
      "bash_output        SList    ['total 100', 'drwxrwxr-x<...>096 mar 28  2019 Videos']\n",
      "lista_de_strings   list     n=2\n",
      "quijote            str      En un lugar de la MANCHA\n"
     ]
    }
   ],
   "source": [
    "%whos"
   ]
  },
  {
   "cell_type": "code",
   "execution_count": 48,
   "metadata": {},
   "outputs": [
    {
     "ename": "SyntaxError",
     "evalue": "can't assign to literal (<ipython-input-48-c507669330f0>, line 1)",
     "output_type": "error",
     "traceback": [
      "\u001b[0;36m  File \u001b[0;32m\"<ipython-input-48-c507669330f0>\"\u001b[0;36m, line \u001b[0;32m1\u001b[0m\n\u001b[0;31m    k=5, a=k\u001b[0m\n\u001b[0m     ^\u001b[0m\n\u001b[0;31mSyntaxError\u001b[0m\u001b[0;31m:\u001b[0m can't assign to literal\n"
     ]
    }
   ],
   "source": [
    "k=5, a=k"
   ]
  },
  {
   "cell_type": "code",
   "execution_count": 49,
   "metadata": {},
   "outputs": [
    {
     "ename": "NameError",
     "evalue": "name 'reset' is not defined",
     "output_type": "error",
     "traceback": [
      "\u001b[0;31m---------------------------------------------------------------------------\u001b[0m",
      "\u001b[0;31mNameError\u001b[0m                                 Traceback (most recent call last)",
      "\u001b[0;32m<ipython-input-49-6fb72726ff4e>\u001b[0m in \u001b[0;36m<module>\u001b[0;34m\u001b[0m\n\u001b[0;32m----> 1\u001b[0;31m \u001b[0mreset\u001b[0m\u001b[0;34m\u001b[0m\u001b[0;34m\u001b[0m\u001b[0m\n\u001b[0m",
      "\u001b[0;31mNameError\u001b[0m: name 'reset' is not defined"
     ]
    }
   ],
   "source": [
    "reset\n"
   ]
  },
  {
   "cell_type": "code",
   "execution_count": 50,
   "metadata": {},
   "outputs": [
    {
     "name": "stdout",
     "output_type": "stream",
     "text": [
      "Once deleted, variables cannot be recovered. Proceed (y/[n])? y\n"
     ]
    }
   ],
   "source": [
    "%reset"
   ]
  },
  {
   "cell_type": "code",
   "execution_count": 51,
   "metadata": {},
   "outputs": [
    {
     "name": "stdout",
     "output_type": "stream",
     "text": [
      "Interactive namespace is empty.\n"
     ]
    }
   ],
   "source": [
    "%who"
   ]
  },
  {
   "cell_type": "code",
   "execution_count": 52,
   "metadata": {},
   "outputs": [],
   "source": [
    "k=5; a=k"
   ]
  },
  {
   "cell_type": "code",
   "execution_count": 54,
   "metadata": {},
   "outputs": [],
   "source": [
    "del a"
   ]
  },
  {
   "cell_type": "code",
   "execution_count": 55,
   "metadata": {},
   "outputs": [
    {
     "name": "stdout",
     "output_type": "stream",
     "text": [
      "k\t \n"
     ]
    }
   ],
   "source": [
    "%who"
   ]
  },
  {
   "cell_type": "code",
   "execution_count": 56,
   "metadata": {},
   "outputs": [],
   "source": [
    "k=5; a=k"
   ]
  },
  {
   "cell_type": "code",
   "execution_count": 57,
   "metadata": {},
   "outputs": [
    {
     "name": "stdout",
     "output_type": "stream",
     "text": [
      "a\t k\t \n"
     ]
    }
   ],
   "source": [
    "%who"
   ]
  },
  {
   "cell_type": "code",
   "execution_count": 58,
   "metadata": {},
   "outputs": [],
   "source": [
    "%xdel a "
   ]
  },
  {
   "cell_type": "code",
   "execution_count": 59,
   "metadata": {},
   "outputs": [
    {
     "name": "stdout",
     "output_type": "stream",
     "text": [
      "Interactive namespace is empty.\n"
     ]
    }
   ],
   "source": [
    "%who"
   ]
  },
  {
   "cell_type": "code",
   "execution_count": null,
   "metadata": {},
   "outputs": [],
   "source": []
  }
 ],
 "metadata": {
  "kernelspec": {
   "display_name": "Python 3",
   "language": "python",
   "name": "python3"
  },
  "language_info": {
   "codemirror_mode": {
    "name": "ipython",
    "version": 3
   },
   "file_extension": ".py",
   "mimetype": "text/x-python",
   "name": "python",
   "nbconvert_exporter": "python",
   "pygments_lexer": "ipython3",
   "version": "3.7.1"
  }
 },
 "nbformat": 4,
 "nbformat_minor": 2
}
